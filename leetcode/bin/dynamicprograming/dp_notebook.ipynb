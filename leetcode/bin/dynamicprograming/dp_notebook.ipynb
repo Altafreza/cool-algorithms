{
 "cells": [
  {
   "cell_type": "code",
   "execution_count": 1,
   "metadata": {},
   "outputs": [],
   "source": [
    "def fib(n):\n",
    "    if n<=1: return n\n",
    "    return fib(n-1)+fib(n-2)"
   ]
  },
  {
   "cell_type": "code",
   "execution_count": 2,
   "metadata": {},
   "outputs": [
    {
     "data": {
      "text/plain": [
       "55"
      ]
     },
     "execution_count": 2,
     "metadata": {},
     "output_type": "execute_result"
    }
   ],
   "source": [
    "fib(10)"
   ]
  },
  {
   "cell_type": "code",
   "execution_count": 97,
   "metadata": {},
   "outputs": [
    {
     "data": {
      "text/plain": [
       "89"
      ]
     },
     "execution_count": 97,
     "metadata": {},
     "output_type": "execute_result"
    }
   ],
   "source": [
    "fib(11)"
   ]
  },
  {
   "cell_type": "code",
   "execution_count": 5,
   "metadata": {},
   "outputs": [
    {
     "data": {
      "text/plain": [
       "1"
      ]
     },
     "execution_count": 5,
     "metadata": {},
     "output_type": "execute_result"
    }
   ],
   "source": [
    "fib(2)"
   ]
  },
  {
   "cell_type": "code",
   "execution_count": 8,
   "metadata": {},
   "outputs": [],
   "source": [
    "def fibMemo(n, mem):\n",
    "    if n<=1: return n\n",
    "    if mem[n]!=None: return mem[n]\n",
    "    mem[n] = fibMemo(n-1, mem) + fibMemo(n-2, mem)\n",
    "    return mem[n]\n",
    "\n",
    "def fibFast(n):\n",
    "    mem = [None]*(n+1)\n",
    "    return fibMemo(n, mem)"
   ]
  },
  {
   "cell_type": "code",
   "execution_count": 9,
   "metadata": {},
   "outputs": [
    {
     "data": {
      "text/plain": [
       "354224848179261915075"
      ]
     },
     "execution_count": 9,
     "metadata": {},
     "output_type": "execute_result"
    }
   ],
   "source": [
    "fibFast(100)"
   ]
  },
  {
   "cell_type": "code",
   "execution_count": 10,
   "metadata": {},
   "outputs": [
    {
     "data": {
      "text/plain": [
       "43466557686937456435688527675040625802564660517371780402481729089536555417949051890403879840079255169295922593080322634775209689623239873322471161642996440906533187938298969649928516003704476137795166849228875"
      ]
     },
     "execution_count": 10,
     "metadata": {},
     "output_type": "execute_result"
    }
   ],
   "source": [
    "fibFast(1000)"
   ]
  },
  {
   "cell_type": "code",
   "execution_count": 11,
   "metadata": {},
   "outputs": [],
   "source": [
    "def fibBottomUp(n):\n",
    "    mem = [None]*(n+1)\n",
    "    mem[0] = 0\n",
    "    mem[1] = 1\n",
    "    for i in range(2, n+1):\n",
    "        mem[i] = mem[i-1] + mem[i-2]\n",
    "    return mem[n]"
   ]
  },
  {
   "cell_type": "code",
   "execution_count": 12,
   "metadata": {},
   "outputs": [
    {
     "data": {
      "text/plain": [
       "354224848179261915075"
      ]
     },
     "execution_count": 12,
     "metadata": {},
     "output_type": "execute_result"
    }
   ],
   "source": [
    "fibBottomUp(100)"
   ]
  },
  {
   "cell_type": "code",
   "execution_count": 13,
   "metadata": {},
   "outputs": [
    {
     "data": {
      "text/plain": [
       "43466557686937456435688527675040625802564660517371780402481729089536555417949051890403879840079255169295922593080322634775209689623239873322471161642996440906533187938298969649928516003704476137795166849228875"
      ]
     },
     "execution_count": 13,
     "metadata": {},
     "output_type": "execute_result"
    }
   ],
   "source": [
    "fibBottomUp(1000)"
   ]
  },
  {
   "cell_type": "code",
   "execution_count": 14,
   "metadata": {},
   "outputs": [
    {
     "data": {
      "text/plain": [
       "True"
      ]
     },
     "execution_count": 14,
     "metadata": {},
     "output_type": "execute_result"
    }
   ],
   "source": [
    "fibBottomUp(1000) == fibFast(1000)"
   ]
  },
  {
   "cell_type": "code",
   "execution_count": 15,
   "metadata": {},
   "outputs": [],
   "source": [
    "def fibSpaceSave(n):\n",
    "    if n <= 1: return n\n",
    "    mem = [0, 1]\n",
    "    for i in range(2, n+1):\n",
    "        x = mem[0] + mem[1]\n",
    "        mem[0] = mem[1]\n",
    "        mem[1] = x\n",
    "    return mem[1]"
   ]
  },
  {
   "cell_type": "code",
   "execution_count": 16,
   "metadata": {},
   "outputs": [
    {
     "data": {
      "text/plain": [
       "354224848179261915075"
      ]
     },
     "execution_count": 16,
     "metadata": {},
     "output_type": "execute_result"
    }
   ],
   "source": [
    "fibSpaceSave(100)"
   ]
  },
  {
   "cell_type": "code",
   "execution_count": 17,
   "metadata": {},
   "outputs": [
    {
     "data": {
      "text/plain": [
       "43466557686937456435688527675040625802564660517371780402481729089536555417949051890403879840079255169295922593080322634775209689623239873322471161642996440906533187938298969649928516003704476137795166849228875"
      ]
     },
     "execution_count": 17,
     "metadata": {},
     "output_type": "execute_result"
    }
   ],
   "source": [
    "fibSpaceSave(1000)"
   ]
  },
  {
   "cell_type": "code",
   "execution_count": 57,
   "metadata": {},
   "outputs": [],
   "source": [
    "G = [\n",
    "    [ [1, 3], [2, 1] ],\n",
    "    [ [3, 7] ],\n",
    "    [ [3, 11] ],\n",
    "    [ [4, 1] ],\n",
    "    [],\n",
    "    []\n",
    "]"
   ]
  },
  {
   "cell_type": "code",
   "execution_count": 58,
   "metadata": {},
   "outputs": [],
   "source": [
    "def reverseGraph(G):\n",
    "    n = len(G)\n",
    "    adj = [ [] for i in range(n) ]\n",
    "    for i in range(n):\n",
    "        for e in G[i]:\n",
    "            adj[e[0]] += [ [i, e[1]]]\n",
    "    return adj"
   ]
  },
  {
   "cell_type": "code",
   "execution_count": 59,
   "metadata": {},
   "outputs": [
    {
     "data": {
      "text/plain": [
       "[[], [[0, 3]], [[0, 1]], [[1, 7], [2, 11]], [[3, 1]], []]"
      ]
     },
     "execution_count": 59,
     "metadata": {},
     "output_type": "execute_result"
    }
   ],
   "source": [
    "reverseGraph(G)"
   ]
  },
  {
   "cell_type": "code",
   "execution_count": 62,
   "metadata": {},
   "outputs": [],
   "source": [
    "def shortestDAGMemo(revG, s, t, mem):\n",
    "    if t==s: return 0\n",
    "    elif len(revG[t])==0: return float('infinity')\n",
    "    elif mem[t]!=None: return mem[t]\n",
    "    else:\n",
    "        mem[t] = float('infinity')\n",
    "        for e in revG[t]:\n",
    "            mem[t] = min(mem[t], shortestDAGMemo(revG, s, e[0], mem) + e[1])\n",
    "        return mem[t]\n",
    "\n",
    "def shortestDAG(G, s, t):\n",
    "    mem = [None]*len(G)\n",
    "    return shortestDAGMemo(reverseGraph(G), s, t, mem)\n",
    "    "
   ]
  },
  {
   "cell_type": "code",
   "execution_count": 9,
   "metadata": {},
   "outputs": [
    {
     "data": {
      "text/plain": [
       "3"
      ]
     },
     "execution_count": 9,
     "metadata": {},
     "output_type": "execute_result"
    }
   ],
   "source": [
    "shortestDAG(G, 0, 1)"
   ]
  },
  {
   "cell_type": "code",
   "execution_count": 10,
   "metadata": {},
   "outputs": [
    {
     "data": {
      "text/plain": [
       "inf"
      ]
     },
     "execution_count": 10,
     "metadata": {},
     "output_type": "execute_result"
    }
   ],
   "source": [
    "shortestDAG(G, 0, 5)"
   ]
  },
  {
   "cell_type": "code",
   "execution_count": 11,
   "metadata": {},
   "outputs": [
    {
     "data": {
      "text/plain": [
       "10"
      ]
     },
     "execution_count": 11,
     "metadata": {},
     "output_type": "execute_result"
    }
   ],
   "source": [
    "shortestDAG(G, 0, 3)"
   ]
  },
  {
   "cell_type": "code",
   "execution_count": 12,
   "metadata": {},
   "outputs": [],
   "source": [
    "def genBad(n):\n",
    "    # produces a bad graph with 3n+1 vertices\n",
    "    adj = [ [] for _ in range(3*n+1) ]\n",
    "    for i in range(n):\n",
    "        adj[3*i]   += [ [3*i+1, 1], [3*i+2, 1] ]\n",
    "        adj[3*i+1] += [ [3*i+3, 1] ]\n",
    "        adj[3*i+2] += [ [3*i+3, 1] ]\n",
    "    return adj"
   ]
  },
  {
   "cell_type": "code",
   "execution_count": 13,
   "metadata": {},
   "outputs": [
    {
     "data": {
      "text/plain": [
       "[[[1, 1], [2, 1]],\n",
       " [[3, 1]],\n",
       " [[3, 1]],\n",
       " [[4, 1], [5, 1]],\n",
       " [[6, 1]],\n",
       " [[6, 1]],\n",
       " [[7, 1], [8, 1]],\n",
       " [[9, 1]],\n",
       " [[9, 1]],\n",
       " [[10, 1], [11, 1]],\n",
       " [[12, 1]],\n",
       " [[12, 1]],\n",
       " [[13, 1], [14, 1]],\n",
       " [[15, 1]],\n",
       " [[15, 1]],\n",
       " []]"
      ]
     },
     "execution_count": 13,
     "metadata": {},
     "output_type": "execute_result"
    }
   ],
   "source": [
    "genBad(5)"
   ]
  },
  {
   "cell_type": "code",
   "execution_count": 14,
   "metadata": {},
   "outputs": [
    {
     "data": {
      "text/plain": [
       "10"
      ]
     },
     "execution_count": 14,
     "metadata": {},
     "output_type": "execute_result"
    }
   ],
   "source": [
    "shortestDAG(genBad(5), 0, 3*5)"
   ]
  },
  {
   "cell_type": "code",
   "execution_count": 15,
   "metadata": {},
   "outputs": [
    {
     "data": {
      "text/plain": [
       "42"
      ]
     },
     "execution_count": 15,
     "metadata": {},
     "output_type": "execute_result"
    }
   ],
   "source": [
    "m = 21\n",
    "shortestDAG(genBad(m), 0, 3*m)"
   ]
  },
  {
   "cell_type": "code",
   "execution_count": 16,
   "metadata": {},
   "outputs": [],
   "source": [
    "def findShortestDAGMemo(revG, s, t, mem, choices):\n",
    "    if t==s: return 0\n",
    "    elif len(revG[t])==0: return float('infinity')\n",
    "    elif mem[t]!=None: return mem[t]\n",
    "    else:\n",
    "        mem[t] = float('infinity')\n",
    "        for e in revG[t]:\n",
    "            tmp = findShortestDAGMemo(revG, s, e[0], mem, choices)\n",
    "            if tmp + e[1] < mem[t]:\n",
    "                mem[t] = tmp + e[1]\n",
    "                choices[t] = e[0]\n",
    "        return mem[t]\n",
    "\n",
    "def findShortestDAG(G, s, t):\n",
    "    mem = [None]*len(G)\n",
    "    choices = [None]*len(G)\n",
    "    distance = findShortestDAGMemo(reverseGraph(G), s, t, mem, choices)\n",
    "    if distance == float('infinity'):\n",
    "        return [distance, []]\n",
    "    if s==t: return [0, []]\n",
    "    path = [t]\n",
    "    at = t\n",
    "    while at!=s:\n",
    "        path.append(choices[at])\n",
    "        at = choices[at]\n",
    "    path.reverse()\n",
    "    return [distance, path]"
   ]
  },
  {
   "cell_type": "code",
   "execution_count": 17,
   "metadata": {},
   "outputs": [
    {
     "data": {
      "text/plain": [
       "[11, [0, 1, 3, 4]]"
      ]
     },
     "execution_count": 17,
     "metadata": {},
     "output_type": "execute_result"
    }
   ],
   "source": [
    "findShortestDAG(G, 0, 4)"
   ]
  },
  {
   "cell_type": "code",
   "execution_count": 3,
   "metadata": {},
   "outputs": [],
   "source": [
    "# return LIS of L[i..n] in which all numbers must be bigger than L[last]\n",
    "def lisRecurse(L, last, i):\n",
    "    if i == len(L): return 0\n",
    "    elif L[i]<L[last]: return lisRecurse(L, last, i+1)\n",
    "    else: return max(lisRecurse(L, last, i+1), 1 + lisRecurse(L, i, i+1))\n",
    "\n",
    "def lis(L):\n",
    "    return lisRecurse([-float('infinity')] + L, 0, 1)"
   ]
  },
  {
   "cell_type": "code",
   "execution_count": 8,
   "metadata": {},
   "outputs": [
    {
     "data": {
      "text/plain": [
       "24"
      ]
     },
     "execution_count": 8,
     "metadata": {},
     "output_type": "execute_result"
    }
   ],
   "source": [
    "lis(list(range(24)))"
   ]
  },
  {
   "cell_type": "code",
   "execution_count": 15,
   "metadata": {},
   "outputs": [],
   "source": [
    "# return LIS of L[i..n] in which all numbers must be bigger than L[last]\n",
    "def lisRecurseMemo(L, last, i, mem):\n",
    "    if i == len(L): return 0\n",
    "    elif mem[last][i] != None: return mem[last][i]\n",
    "    elif L[i]<L[last]: \n",
    "        mem[last][i] = lisRecurseMemo(L, last, i+1, mem)\n",
    "        return mem[last][i]\n",
    "    else:\n",
    "        mem[last][i] = max(lisRecurseMemo(L, last, i+1, mem),\n",
    "                           1 + lisRecurseMemo(L, i, i+1, mem))\n",
    "        return mem[last][i]\n",
    "\n",
    "def lisMemo(L):\n",
    "    mem = [[None]*(1+len(L)) for _ in range(len(L)+1)]\n",
    "    return lisRecurseMemo([-float('infinity')] + L, 0, 1, mem)"
   ]
  },
  {
   "cell_type": "code",
   "execution_count": 17,
   "metadata": {},
   "outputs": [
    {
     "data": {
      "text/plain": [
       "400"
      ]
     },
     "execution_count": 17,
     "metadata": {},
     "output_type": "execute_result"
    }
   ],
   "source": [
    "lisMemo(list(range(400)))"
   ]
  },
  {
   "cell_type": "code",
   "execution_count": 1,
   "metadata": {},
   "outputs": [],
   "source": [
    "def lisBottomUp(L):\n",
    "    L = [-float('infinity')] + L\n",
    "    n = len(L)\n",
    "    # mem[last][i] gives us f(last, i)\n",
    "    mem = [[None]*(n+1) for _ in range(n)]\n",
    "    # fill in base cases\n",
    "    for last in range(n):\n",
    "        mem[last][n] = 0\n",
    "    for i in range(n-1, -1, -1):\n",
    "        for last in range(n):\n",
    "            if L[i] <= L[last]:\n",
    "                mem[last][i] = mem[last][i+1]\n",
    "            else:\n",
    "                mem[last][i] = max(mem[last][i+1], 1 + mem[i][i+1])\n",
    "    return mem[0][1]"
   ]
  },
  {
   "cell_type": "code",
   "execution_count": 16,
   "metadata": {},
   "outputs": [
    {
     "data": {
      "text/plain": [
       "6"
      ]
     },
     "execution_count": 16,
     "metadata": {},
     "output_type": "execute_result"
    }
   ],
   "source": [
    "lisBottomUp([0, 8, 4, 12, 2, 10, 6, 14, 1, 9, 5, 13, 3, 11, 7, 15])"
   ]
  },
  {
   "cell_type": "code",
   "execution_count": 17,
   "metadata": {},
   "outputs": [],
   "source": [
    "def lisBottomUpSaveSpace(L):\n",
    "    # use 2n extra memory instead of n^2; just remember last two rows of mem table\n",
    "    L = [-float('infinity')] + L\n",
    "    n = len(L)\n",
    "    prev = [0]*n # base cases, prev[last] = f(last ,n)\n",
    "    for i in range(n-1, 0, -1): # go from i=n-1 down to i=1\n",
    "        cur = [0]*n\n",
    "        for last in range(n):\n",
    "            if L[i] <= L[last]:\n",
    "                cur[last] = prev[last]\n",
    "            else:\n",
    "                cur[last] = max(prev[last], 1 + prev[i])\n",
    "        # now move over everything in cur to prev before we process the next i\n",
    "        for last in range(n):\n",
    "            prev[last] = cur[last]\n",
    "        \n",
    "    return cur[0] # returns f(0, 1)"
   ]
  },
  {
   "cell_type": "code",
   "execution_count": 18,
   "metadata": {},
   "outputs": [
    {
     "data": {
      "text/plain": [
       "6"
      ]
     },
     "execution_count": 18,
     "metadata": {},
     "output_type": "execute_result"
    }
   ],
   "source": [
    "lisBottomUpSaveSpace([0, 8, 4, 12, 2, 10, 6, 14, 1, 9, 5, 13, 3, 11, 7, 15])"
   ]
  },
  {
   "cell_type": "code",
   "execution_count": 6,
   "metadata": {},
   "outputs": [],
   "source": [
    "# return LIS of L[i..n] in which all numbers must be bigger than L[last]\n",
    "def lisRecurseMemoWithSolution(L, last, i, mem, choices):\n",
    "    if i == len(L): return 0\n",
    "    elif mem[last][i] != None: return mem[last][i]\n",
    "    elif L[i]<L[last]: \n",
    "        mem[last][i] = lisRecurseMemoWithSolution(L, last, i+1, mem, choices)\n",
    "        choices[last][i] = 'skip'\n",
    "        return mem[last][i]\n",
    "    else:\n",
    "        A = lisRecurseMemoWithSolution(L, last, i+1, mem, choices)\n",
    "        B = 1 + lisRecurseMemoWithSolution(L, i, i+1, mem, choices)\n",
    "        if A > B:\n",
    "            choices[last][i] = 'skip'\n",
    "            mem[last][i] = A\n",
    "        else:\n",
    "            choices[last][i] = 'take'\n",
    "            mem[last][i] = B\n",
    "        return mem[last][i]\n",
    "\n",
    "# return the actual subsequence which is longest, and not just its length\n",
    "def lisMemoWithSolution(L):\n",
    "    mem = [[None]*(1+len(L)) for _ in range(len(L)+1)]\n",
    "    choices = [[None]*(1+len(L)) for _ in range(len(L)+1)]\n",
    "    L = [-float('infinity')] + L\n",
    "    lisRecurseMemoWithSolution(L, 0, 1, mem, choices)\n",
    "    cur_last = 0\n",
    "    cur_i = 1\n",
    "    ans = []\n",
    "    while cur_i != len(L):\n",
    "        if choices[cur_last][cur_i] == 'take':\n",
    "            ans.append(L[cur_i])\n",
    "            cur_last = cur_i\n",
    "        cur_i += 1\n",
    "    return ans"
   ]
  },
  {
   "cell_type": "code",
   "execution_count": 8,
   "metadata": {},
   "outputs": [
    {
     "data": {
      "text/plain": [
       "[0, 4, 6, 9, 13, 15]"
      ]
     },
     "execution_count": 8,
     "metadata": {},
     "output_type": "execute_result"
    }
   ],
   "source": [
    "lisMemoWithSolution([0, 8, 4, 12, 2, 10, 6, 14, 1, 9, 5, 13, 3, 11, 7, 15])"
   ]
  },
  {
   "cell_type": "markdown",
   "metadata": {},
   "source": [
    "# Now here are some more examples with just the recursion written. Try to write memoized versions, bottom-up versions, and bottom-up space saving versions (if possible) yourself as practice! Or versions that reconstruct an actual optimal solution and not just the cost."
   ]
  },
  {
   "cell_type": "code",
   "execution_count": 34,
   "metadata": {},
   "outputs": [],
   "source": [
    "def editDistanceRecurse(s, t, i, j):\n",
    "    # compute edit distance of s[i..n], t[j..m]\n",
    "    n = len(s)\n",
    "    m = len(t)\n",
    "    if i == n: return m-j\n",
    "    elif j==m: return n-i\n",
    "    else:\n",
    "        # since we have to turn s into t, we have to in particular make the first letter\n",
    "        # of s match t, either via prepending t[j], deleting s[i], or substituting\n",
    "        A = 1 + editDistanceRecurse(s, t, i, j+1) # insert t[j] before s[i]\n",
    "        B = 1 + editDistanceRecurse(s, t, i+1, j) # delete s[i]\n",
    "        C = editDistanceRecurse(s, t, i+1, j+1) # substitution\n",
    "        if s[i] != t[j]:\n",
    "            C += 1\n",
    "        return min(min(A, B), C)\n",
    "    \n",
    "def editDistance(s, t):\n",
    "    return editDistanceRecurse(s, t, 0, 0)"
   ]
  },
  {
   "cell_type": "code",
   "execution_count": 35,
   "metadata": {},
   "outputs": [
    {
     "data": {
      "text/plain": [
       "3"
      ]
     },
     "execution_count": 35,
     "metadata": {},
     "output_type": "execute_result"
    }
   ],
   "source": [
    "editDistance('kitten', 'sitting')"
   ]
  },
  {
   "cell_type": "code",
   "execution_count": 40,
   "metadata": {},
   "outputs": [],
   "source": [
    "def knapsackRecurse(L, w, i):\n",
    "    # max value we can pack amongst items L[i..n] with knapsack of capacity w\n",
    "    # each item in L is a pair (weight, value)\n",
    "    if i==len(L): return 0\n",
    "    elif L[i][0] > w: return knapsackRecurse(L, w, i+1)\n",
    "    else:\n",
    "        return max(knapsackRecurse(L, w, i+1),\n",
    "                  L[i][1] + knapsackRecurse(L, w-L[i][0], i+1))\n",
    "\n",
    "def knapsack(L, W):\n",
    "    # max value of items we can pack in capacity-W knapsack\n",
    "    return knapsackRecurse(L, W, 0)"
   ]
  },
  {
   "cell_type": "code",
   "execution_count": 41,
   "metadata": {},
   "outputs": [
    {
     "data": {
      "text/plain": [
       "20"
      ]
     },
     "execution_count": 41,
     "metadata": {},
     "output_type": "execute_result"
    }
   ],
   "source": [
    "knapsack([ [11,15], [10, 10], [10,10] ], 20)"
   ]
  },
  {
   "cell_type": "code",
   "execution_count": 48,
   "metadata": {},
   "outputs": [],
   "source": [
    "def matrixChainMultRecurse(lengths, a, b):\n",
    "    # compute cheapest parenthesization to multiply lengths[a..b]\n",
    "    if a==b: return 0\n",
    "    # loop over which multiplication will be the last one\n",
    "    ans = float('infinity')\n",
    "    for i in range(a, b):\n",
    "        ans = min(ans, matrixChainMultRecurse(lengths, a, i)\n",
    "                      + matrixChainMultRecurse(lengths, i+1, b)\n",
    "                      + lengths[a][0]*lengths[i][1]*lengths[b][1])\n",
    "    return ans\n",
    "\n",
    "def matrixChainMult(lengths):\n",
    "    # need to multiply A_1 x A_2 x ... x A_n\n",
    "    # but can choose the parenthesization. Parenthesize so as to take the least total time,\n",
    "    # where multiplying an \n",
    "    return matrixChainMultRecurse(lengths, 0, len(lengths) - 1)"
   ]
  },
  {
   "cell_type": "code",
   "execution_count": 74,
   "metadata": {},
   "outputs": [
    {
     "data": {
      "text/plain": [
       "15"
      ]
     },
     "execution_count": 74,
     "metadata": {},
     "output_type": "execute_result"
    }
   ],
   "source": [
    "matrixChainMult([ [3,3], [3,2], [2,1] ])"
   ]
  },
  {
   "cell_type": "code",
   "execution_count": 55,
   "metadata": {},
   "outputs": [],
   "source": [
    "def shortestPathRecurse(revG, s, t, k):\n",
    "    # find shortest path from s to t using at most k edges\n",
    "    if k == 0:\n",
    "        if t==s: return 0\n",
    "        else: return float('infinity')\n",
    "    else:\n",
    "        ans = shortestPathRecurse(revG, s, t, k-1)\n",
    "        for e in revG[t]:\n",
    "            ans = min(ans, e[1] + shortestPathRecurse(revG, s, e[0], k-1))\n",
    "        return ans\n",
    "\n",
    "def shortestPath(G, s, t):\n",
    "    return shortestPathRecurse(reverseGraph(G), s, t, len(G)-1)"
   ]
  },
  {
   "cell_type": "code",
   "execution_count": 63,
   "metadata": {},
   "outputs": [
    {
     "data": {
      "text/plain": [
       "True"
      ]
     },
     "execution_count": 63,
     "metadata": {},
     "output_type": "execute_result"
    }
   ],
   "source": [
    "shortestPath(G, 0, 3) == shortestDAG(G, 0, 3)"
   ]
  },
  {
   "cell_type": "code",
   "execution_count": 65,
   "metadata": {},
   "outputs": [],
   "source": [
    "def APSPrecurse(A, i, j, k):\n",
    "    # length of shortest path from i to j when all intermediate vertices can only be in the\n",
    "    # set {1,...,k}\n",
    "    if k == 0: return A[i][j]\n",
    "    else:\n",
    "        return min(APSPrecurse(A, i, j, k-1),\n",
    "                  APSPrecurse(A, i, k, k-1) + APSPrecurse(A, k, j, k-1))\n",
    "\n",
    "def APSP(A, i, j):\n",
    "    return APSPrecurse(A, i, j, len(A)-1)"
   ]
  },
  {
   "cell_type": "code",
   "execution_count": 70,
   "metadata": {},
   "outputs": [],
   "source": [
    "def convertToAdjMatrix(G):\n",
    "    n = len(G)\n",
    "    A = [[float('infinity')]*n for _ in range(n)]\n",
    "    for i in range(len(G)):\n",
    "        for e in G[i]:\n",
    "            A[i][e[0]] = e[1]\n",
    "    return A"
   ]
  },
  {
   "cell_type": "code",
   "execution_count": 71,
   "metadata": {},
   "outputs": [
    {
     "data": {
      "text/plain": [
       "True"
      ]
     },
     "execution_count": 71,
     "metadata": {},
     "output_type": "execute_result"
    }
   ],
   "source": [
    "shortestPath(G, 0, 3) == APSP(convertToAdjMatrix(G), 0, 3)"
   ]
  },
  {
   "cell_type": "code",
   "execution_count": 72,
   "metadata": {},
   "outputs": [],
   "source": [
    "# A is the adjacency matrix with weights\n",
    "def TSPrecurse(A, at, S):\n",
    "    # have already visited all vertices in S, which is a bitvector\n",
    "    n = len(A)\n",
    "    if S == (1<<n)-1: return 0\n",
    "    else:\n",
    "        ans = float('infinity')\n",
    "        for i in range(n):\n",
    "            if S & (1<<i) == 0:\n",
    "                ans = min(ans, A[at][i] + TSPrecurse(A, i, S|(1<<i)))\n",
    "        return ans\n",
    "def TSP(A):\n",
    "    # find the shortest route starting at 0 which visits all vertices\n",
    "    return TSPrecurse(A, 0, 1)"
   ]
  },
  {
   "cell_type": "code",
   "execution_count": 73,
   "metadata": {},
   "outputs": [
    {
     "data": {
      "text/plain": [
       "1"
      ]
     },
     "execution_count": 73,
     "metadata": {},
     "output_type": "execute_result"
    }
   ],
   "source": [
    "TSP([ [1,1], [1,1] ])"
   ]
  },
  {
   "cell_type": "code",
   "execution_count": null,
   "metadata": {},
   "outputs": [],
   "source": []
  }
 ],
 "metadata": {
  "kernelspec": {
   "display_name": "Python 3",
   "language": "python",
   "name": "python3"
  },
  "language_info": {
   "codemirror_mode": {
    "name": "ipython",
    "version": 3
   },
   "file_extension": ".py",
   "mimetype": "text/x-python",
   "name": "python",
   "nbconvert_exporter": "python",
   "pygments_lexer": "ipython3",
   "version": "3.6.9"
  }
 },
 "nbformat": 4,
 "nbformat_minor": 2
}
